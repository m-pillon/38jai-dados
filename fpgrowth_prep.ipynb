{
 "cells": [
  {
   "cell_type": "code",
   "execution_count": 1,
   "metadata": {},
   "outputs": [],
   "source": [
    "import pandas as pd\n",
    "\n",
    "# carregamos o dataframe na variavel df\n",
    "df = pd.read_csv('rs_censo_escolar_selecionados.csv')"
   ]
  },
  {
   "cell_type": "markdown",
   "metadata": {},
   "source": [
    "<h3>PREPARACAO"
   ]
  },
  {
   "cell_type": "code",
   "execution_count": 2,
   "metadata": {},
   "outputs": [],
   "source": [
    "# pegamos as colunas que nos interessam\n",
    "aces = df[['TP_DEPENDENCIA', 'TP_LOCALIZACAO', 'IN_ACESSIBILIDADE_CORRIMAO', 'IN_ACESSIBILIDADE_ELEVADOR', \n",
    "           'IN_ACESSIBILIDADE_PISOS_TATEIS', 'IN_ACESSIBILIDADE_VAO_LIVRE','IN_ACESSIBILIDADE_RAMPAS', \n",
    "           'IN_ACESSIBILIDADE_SINAL_SONORO', 'IN_ACESSIBILIDADE_SINAL_TATIL', 'IN_ACESSIBILIDADE_SINAL_VISUAL',\n",
    "           'IN_ACESSIBILIDADE_INEXISTENTE']]"
   ]
  },
  {
   "cell_type": "markdown",
   "metadata": {},
   "source": [
    "TIPOS DE ESCOLA\n",
    "    \n",
    "    TP_DEPENDENCIA:\n",
    "        1 = federal\n",
    "        2 = estadual\n",
    "        3 = municipal\n",
    "        4 = privada\n",
    "    \n",
    "    TP_LOCALIZACAO:\n",
    "        1 = urbana\n",
    "        2 = rural"
   ]
  },
  {
   "cell_type": "code",
   "execution_count": 3,
   "metadata": {},
   "outputs": [
    {
     "name": "stderr",
     "output_type": "stream",
     "text": [
      "C:\\Users\\maria\\AppData\\Local\\Temp\\ipykernel_19936\\2498763284.py:6: SettingWithCopyWarning: \n",
      "A value is trying to be set on a copy of a slice from a DataFrame.\n",
      "Try using .loc[row_indexer,col_indexer] = value instead\n",
      "\n",
      "See the caveats in the documentation: https://pandas.pydata.org/pandas-docs/stable/user_guide/indexing.html#returning-a-view-versus-a-copy\n",
      "  aces['DEF_LOCOMOCAO'] = aces['IN_ACESSIBILIDADE_CORRIMAO'].apply(lambda x: True if(x==1) else False)\n",
      "C:\\Users\\maria\\AppData\\Local\\Temp\\ipykernel_19936\\2498763284.py:7: SettingWithCopyWarning: \n",
      "A value is trying to be set on a copy of a slice from a DataFrame.\n",
      "Try using .loc[row_indexer,col_indexer] = value instead\n",
      "\n",
      "See the caveats in the documentation: https://pandas.pydata.org/pandas-docs/stable/user_guide/indexing.html#returning-a-view-versus-a-copy\n",
      "  aces['DEF_LOCOMOCAO'] = aces['IN_ACESSIBILIDADE_ELEVADOR'].apply(lambda x: True if(x==1) else True if(x==1) else False)\n",
      "C:\\Users\\maria\\AppData\\Local\\Temp\\ipykernel_19936\\2498763284.py:8: SettingWithCopyWarning: \n",
      "A value is trying to be set on a copy of a slice from a DataFrame.\n",
      "Try using .loc[row_indexer,col_indexer] = value instead\n",
      "\n",
      "See the caveats in the documentation: https://pandas.pydata.org/pandas-docs/stable/user_guide/indexing.html#returning-a-view-versus-a-copy\n",
      "  aces['DEF_LOCOMOCAO'] = aces['IN_ACESSIBILIDADE_RAMPAS'].apply(lambda x: True if(x==1) else True if(x==1) else False)\n",
      "C:\\Users\\maria\\AppData\\Local\\Temp\\ipykernel_19936\\2498763284.py:9: SettingWithCopyWarning: \n",
      "A value is trying to be set on a copy of a slice from a DataFrame.\n",
      "Try using .loc[row_indexer,col_indexer] = value instead\n",
      "\n",
      "See the caveats in the documentation: https://pandas.pydata.org/pandas-docs/stable/user_guide/indexing.html#returning-a-view-versus-a-copy\n",
      "  aces['DEF_LOCOMOCAO'] = aces['IN_ACESSIBILIDADE_VAO_LIVRE'].apply(lambda x: True if(x==1) else True if(x==1) else False)\n",
      "C:\\Users\\maria\\AppData\\Local\\Temp\\ipykernel_19936\\2498763284.py:12: SettingWithCopyWarning: \n",
      "A value is trying to be set on a copy of a slice from a DataFrame.\n",
      "Try using .loc[row_indexer,col_indexer] = value instead\n",
      "\n",
      "See the caveats in the documentation: https://pandas.pydata.org/pandas-docs/stable/user_guide/indexing.html#returning-a-view-versus-a-copy\n",
      "  aces['DEF_AUDITIVA'] = aces['IN_ACESSIBILIDADE_SINAL_VISUAL'].apply(lambda x: True if(x==1) else False)\n",
      "C:\\Users\\maria\\AppData\\Local\\Temp\\ipykernel_19936\\2498763284.py:15: SettingWithCopyWarning: \n",
      "A value is trying to be set on a copy of a slice from a DataFrame.\n",
      "Try using .loc[row_indexer,col_indexer] = value instead\n",
      "\n",
      "See the caveats in the documentation: https://pandas.pydata.org/pandas-docs/stable/user_guide/indexing.html#returning-a-view-versus-a-copy\n",
      "  aces['DEF_VISUAL'] = aces['IN_ACESSIBILIDADE_PISOS_TATEIS'].apply(lambda x: True if(x==1) else False)\n",
      "C:\\Users\\maria\\AppData\\Local\\Temp\\ipykernel_19936\\2498763284.py:16: SettingWithCopyWarning: \n",
      "A value is trying to be set on a copy of a slice from a DataFrame.\n",
      "Try using .loc[row_indexer,col_indexer] = value instead\n",
      "\n",
      "See the caveats in the documentation: https://pandas.pydata.org/pandas-docs/stable/user_guide/indexing.html#returning-a-view-versus-a-copy\n",
      "  aces['DEF_VISUAL'] = aces['IN_ACESSIBILIDADE_SINAL_SONORO'].apply(lambda x: True if(x==1) else True if(x==1) else False)\n",
      "C:\\Users\\maria\\AppData\\Local\\Temp\\ipykernel_19936\\2498763284.py:17: SettingWithCopyWarning: \n",
      "A value is trying to be set on a copy of a slice from a DataFrame.\n",
      "Try using .loc[row_indexer,col_indexer] = value instead\n",
      "\n",
      "See the caveats in the documentation: https://pandas.pydata.org/pandas-docs/stable/user_guide/indexing.html#returning-a-view-versus-a-copy\n",
      "  aces['DEF_VISUAL'] = aces['IN_ACESSIBILIDADE_SINAL_TATIL'].apply(lambda x: True if(x==1) else True if(x==1) else False)\n",
      "C:\\Users\\maria\\AppData\\Local\\Temp\\ipykernel_19936\\2498763284.py:21: SettingWithCopyWarning: \n",
      "A value is trying to be set on a copy of a slice from a DataFrame.\n",
      "Try using .loc[row_indexer,col_indexer] = value instead\n",
      "\n",
      "See the caveats in the documentation: https://pandas.pydata.org/pandas-docs/stable/user_guide/indexing.html#returning-a-view-versus-a-copy\n",
      "  aces['IN_ACESSIBILIDADE_INEXISTENTE'] = aces['IN_ACESSIBILIDADE_INEXISTENTE'].apply(lambda x: True if(x==1) else False)\n",
      "C:\\Users\\maria\\AppData\\Local\\Temp\\ipykernel_19936\\2498763284.py:24: SettingWithCopyWarning: \n",
      "A value is trying to be set on a copy of a slice from a DataFrame.\n",
      "Try using .loc[row_indexer,col_indexer] = value instead\n",
      "\n",
      "See the caveats in the documentation: https://pandas.pydata.org/pandas-docs/stable/user_guide/indexing.html#returning-a-view-versus-a-copy\n",
      "  aces['FEDERAL'] = aces['TP_DEPENDENCIA'].apply(lambda x: True if(x==1) else False)\n",
      "C:\\Users\\maria\\AppData\\Local\\Temp\\ipykernel_19936\\2498763284.py:25: SettingWithCopyWarning: \n",
      "A value is trying to be set on a copy of a slice from a DataFrame.\n",
      "Try using .loc[row_indexer,col_indexer] = value instead\n",
      "\n",
      "See the caveats in the documentation: https://pandas.pydata.org/pandas-docs/stable/user_guide/indexing.html#returning-a-view-versus-a-copy\n",
      "  aces['ESTADUAL'] = aces['TP_DEPENDENCIA'].apply(lambda x: True if(x==2) else False)\n",
      "C:\\Users\\maria\\AppData\\Local\\Temp\\ipykernel_19936\\2498763284.py:26: SettingWithCopyWarning: \n",
      "A value is trying to be set on a copy of a slice from a DataFrame.\n",
      "Try using .loc[row_indexer,col_indexer] = value instead\n",
      "\n",
      "See the caveats in the documentation: https://pandas.pydata.org/pandas-docs/stable/user_guide/indexing.html#returning-a-view-versus-a-copy\n",
      "  aces['MUNICIPAL'] = aces['TP_DEPENDENCIA'].apply(lambda x: True if(x==3) else False)\n",
      "C:\\Users\\maria\\AppData\\Local\\Temp\\ipykernel_19936\\2498763284.py:27: SettingWithCopyWarning: \n",
      "A value is trying to be set on a copy of a slice from a DataFrame.\n",
      "Try using .loc[row_indexer,col_indexer] = value instead\n",
      "\n",
      "See the caveats in the documentation: https://pandas.pydata.org/pandas-docs/stable/user_guide/indexing.html#returning-a-view-versus-a-copy\n",
      "  aces['PRIVADA'] = aces['TP_DEPENDENCIA'].apply(lambda x: True if(x==4) else False)\n",
      "C:\\Users\\maria\\AppData\\Local\\Temp\\ipykernel_19936\\2498763284.py:31: SettingWithCopyWarning: \n",
      "A value is trying to be set on a copy of a slice from a DataFrame.\n",
      "Try using .loc[row_indexer,col_indexer] = value instead\n",
      "\n",
      "See the caveats in the documentation: https://pandas.pydata.org/pandas-docs/stable/user_guide/indexing.html#returning-a-view-versus-a-copy\n",
      "  aces['URBANA'] = aces['TP_LOCALIZACAO'].apply(lambda x: True if(x==1) else False)\n",
      "C:\\Users\\maria\\AppData\\Local\\Temp\\ipykernel_19936\\2498763284.py:32: SettingWithCopyWarning: \n",
      "A value is trying to be set on a copy of a slice from a DataFrame.\n",
      "Try using .loc[row_indexer,col_indexer] = value instead\n",
      "\n",
      "See the caveats in the documentation: https://pandas.pydata.org/pandas-docs/stable/user_guide/indexing.html#returning-a-view-versus-a-copy\n",
      "  aces['RURAL'] = aces['URBANA'].apply(lambda x: not x)\n"
     ]
    }
   ],
   "source": [
    "# parte mais chata. alem de mapear as colunas para 'True' ou 'False'\n",
    "# tambem juntamos ou quebramos algumas delas\n",
    "\n",
    "# aqui juntamos todos os recursos de acessibilidade para\n",
    "# pessoas com deficiencias motoras em na coluna DEF_LOCOMOCAO\n",
    "aces['DEF_LOCOMOCAO'] = aces['IN_ACESSIBILIDADE_CORRIMAO'].apply(lambda x: True if(x==1) else False)\n",
    "aces['DEF_LOCOMOCAO'] = aces['IN_ACESSIBILIDADE_ELEVADOR'].apply(lambda x: True if(x==1) else True if(x==1) else False)\n",
    "aces['DEF_LOCOMOCAO'] = aces['IN_ACESSIBILIDADE_RAMPAS'].apply(lambda x: True if(x==1) else True if(x==1) else False)\n",
    "aces['DEF_LOCOMOCAO'] = aces['IN_ACESSIBILIDADE_VAO_LIVRE'].apply(lambda x: True if(x==1) else True if(x==1) else False)\n",
    "\n",
    "# mesma coisa para deficientes auditivos em DEF_AUDITIVA\n",
    "aces['DEF_AUDITIVA'] = aces['IN_ACESSIBILIDADE_SINAL_VISUAL'].apply(lambda x: True if(x==1) else False)\n",
    "\n",
    "# aqui tambem para deficientes visuais em DEF_VISUAL\n",
    "aces['DEF_VISUAL'] = aces['IN_ACESSIBILIDADE_PISOS_TATEIS'].apply(lambda x: True if(x==1) else False)\n",
    "aces['DEF_VISUAL'] = aces['IN_ACESSIBILIDADE_SINAL_SONORO'].apply(lambda x: True if(x==1) else True if(x==1) else False)\n",
    "aces['DEF_VISUAL'] = aces['IN_ACESSIBILIDADE_SINAL_TATIL'].apply(lambda x: True if(x==1) else True if(x==1) else False)\n",
    "\n",
    "# essa coluna indica que nenhuma das outras colunas esta preenchida\n",
    "# o que ajuda na hora de visualizar os dados\n",
    "aces['IN_ACESSIBILIDADE_INEXISTENTE'] = aces['IN_ACESSIBILIDADE_INEXISTENTE'].apply(lambda x: True if(x==1) else False)\n",
    "\n",
    "# aqui mapeamos os tipos de dependencia de escola para suas proprias colunas\n",
    "aces['FEDERAL'] = aces['TP_DEPENDENCIA'].apply(lambda x: True if(x==1) else False)\n",
    "aces['ESTADUAL'] = aces['TP_DEPENDENCIA'].apply(lambda x: True if(x==2) else False)\n",
    "aces['MUNICIPAL'] = aces['TP_DEPENDENCIA'].apply(lambda x: True if(x==3) else False)\n",
    "aces['PRIVADA'] = aces['TP_DEPENDENCIA'].apply(lambda x: True if(x==4) else False)\n",
    "\n",
    "# mesma coisa para o tipo de localizacao (rural ou urbana)\n",
    "# foi separado para a visualizacao na hora da geracao das regras\n",
    "aces['URBANA'] = aces['TP_LOCALIZACAO'].apply(lambda x: True if(x==1) else False)\n",
    "aces['RURAL'] = aces['URBANA'].apply(lambda x: not x)"
   ]
  },
  {
   "cell_type": "code",
   "execution_count": 4,
   "metadata": {},
   "outputs": [],
   "source": [
    "# dropamos as colunas antigas\n",
    "aces = aces.drop(columns=['TP_DEPENDENCIA'])\n",
    "aces = aces.drop(columns=['IN_ACESSIBILIDADE_CORRIMAO', 'IN_ACESSIBILIDADE_ELEVADOR', 'IN_ACESSIBILIDADE_RAMPAS', 'IN_ACESSIBILIDADE_VAO_LIVRE', \n",
    "                          'IN_ACESSIBILIDADE_SINAL_TATIL', 'IN_ACESSIBILIDADE_SINAL_VISUAL', 'IN_ACESSIBILIDADE_PISOS_TATEIS', 'IN_ACESSIBILIDADE_SINAL_SONORO'])\n",
    "aces = aces.drop(columns=['TP_LOCALIZACAO'])"
   ]
  },
  {
   "cell_type": "code",
   "execution_count": 5,
   "metadata": {},
   "outputs": [],
   "source": [
    "# salvamos em um csv\n",
    "aces.to_csv('acessibilidade_rs.csv')"
   ]
  }
 ],
 "metadata": {
  "kernelspec": {
   "display_name": "Python 3 (ipykernel)",
   "language": "python",
   "name": "python3"
  },
  "language_info": {
   "codemirror_mode": {
    "name": "ipython",
    "version": 3
   },
   "file_extension": ".py",
   "mimetype": "text/x-python",
   "name": "python",
   "nbconvert_exporter": "python",
   "pygments_lexer": "ipython3",
   "version": "3.11.3"
  }
 },
 "nbformat": 4,
 "nbformat_minor": 2
}
